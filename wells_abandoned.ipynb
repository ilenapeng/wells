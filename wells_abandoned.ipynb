{
  "nbformat": 4,
  "nbformat_minor": 0,
  "metadata": {
    "colab": {
      "name": "wells_abandoned_github.ipynb",
      "provenance": []
    },
    "kernelspec": {
      "name": "python3",
      "display_name": "Python 3"
    },
    "language_info": {
      "name": "python"
    }
  },
  "cells": [
    {
      "cell_type": "code",
      "metadata": {
        "colab": {
          "base_uri": "https://localhost:8080/",
          "height": 35
        },
        "id": "uqOnDSnO2SrC",
        "outputId": "9762fa58-7cba-4444-9b28-38d22d5ccf79"
      },
      "source": [
        "#Import pandas\n",
        "from __future__ import print_function\n",
        "\n",
        "import pandas as pd\n",
        "pd.__version__"
      ],
      "execution_count": 1,
      "outputs": [
        {
          "output_type": "execute_result",
          "data": {
            "application/vnd.google.colaboratory.intrinsic+json": {
              "type": "string"
            },
            "text/plain": [
              "'1.1.5'"
            ]
          },
          "metadata": {},
          "execution_count": 1
        }
      ]
    },
    {
      "cell_type": "code",
      "metadata": {
        "id": "hKzkdUUH_gk_"
      },
      "source": [
        "import numpy as np\n",
        "\n",
        "import matplotlib as mpl\n",
        "import matplotlib.pyplot as plt\n",
        "\n",
        "from google.colab import files"
      ],
      "execution_count": 11,
      "outputs": []
    },
    {
      "cell_type": "code",
      "metadata": {
        "id": "QwFFvwwa2fSH"
      },
      "source": [
        "df = pd.read_csv(\"wells_abandoned.csv\")\n",
        "#Remove spaces in column names\n",
        "df.columns = df.columns.str.replace(' ', '')"
      ],
      "execution_count": 3,
      "outputs": []
    },
    {
      "cell_type": "code",
      "metadata": {
        "colab": {
          "base_uri": "https://localhost:8080/"
        },
        "id": "-jxx63Mw6P7u",
        "outputId": "420584a3-527d-4965-ab84-a77f97bf1095"
      },
      "source": [
        "df.WELLSTATUSCODE.value_counts()\n",
        "#UN: well status unknown, but detail on location, etc, provided to DEC through misc. means\n",
        "#UL: well status unknown, but well located and inspection performed\n",
        "#UM: well status unknown, DEC was unable to locate the well"
      ],
      "execution_count": 4,
      "outputs": [
        {
          "output_type": "execute_result",
          "data": {
            "text/plain": [
              "UN    2375\n",
              "UL    2342\n",
              "UM    2134\n",
              "Name: WELLSTATUSCODE, dtype: int64"
            ]
          },
          "metadata": {},
          "execution_count": 4
        }
      ]
    },
    {
      "cell_type": "code",
      "metadata": {
        "id": "ILW2F4aA60G5"
      },
      "source": [
        "#Filtering out wells that DEC was unable to locate\n",
        "df_located = df[df['WELLSTATUSCODE']!='UM']"
      ],
      "execution_count": 5,
      "outputs": []
    },
    {
      "cell_type": "code",
      "metadata": {
        "colab": {
          "base_uri": "https://localhost:8080/",
          "height": 266
        },
        "id": "uLTJewf_4UN8",
        "outputId": "e040c834-a00d-4c0c-8fb3-aa96600a68a4"
      },
      "source": [
        "#Counting number of wells in each NYSDEC region\n",
        "wells_region = df_located.REGION.value_counts().rename_axis('region').reset_index(name='count')\n",
        "wells_region\n",
        "#Region 9: Western NY, Region 8: Western Finger Lakes\n",
        "#More details about NYSDEC regions: https://www.dec.ny.gov/about/558.html and https://www.dec.ny.gov/about/76070.html"
      ],
      "execution_count": 6,
      "outputs": [
        {
          "output_type": "execute_result",
          "data": {
            "text/html": [
              "<div>\n",
              "<style scoped>\n",
              "    .dataframe tbody tr th:only-of-type {\n",
              "        vertical-align: middle;\n",
              "    }\n",
              "\n",
              "    .dataframe tbody tr th {\n",
              "        vertical-align: top;\n",
              "    }\n",
              "\n",
              "    .dataframe thead th {\n",
              "        text-align: right;\n",
              "    }\n",
              "</style>\n",
              "<table border=\"1\" class=\"dataframe\">\n",
              "  <thead>\n",
              "    <tr style=\"text-align: right;\">\n",
              "      <th></th>\n",
              "      <th>region</th>\n",
              "      <th>count</th>\n",
              "    </tr>\n",
              "  </thead>\n",
              "  <tbody>\n",
              "    <tr>\n",
              "      <th>0</th>\n",
              "      <td>9</td>\n",
              "      <td>3880</td>\n",
              "    </tr>\n",
              "    <tr>\n",
              "      <th>1</th>\n",
              "      <td>8</td>\n",
              "      <td>557</td>\n",
              "    </tr>\n",
              "    <tr>\n",
              "      <th>2</th>\n",
              "      <td>7</td>\n",
              "      <td>222</td>\n",
              "    </tr>\n",
              "    <tr>\n",
              "      <th>3</th>\n",
              "      <td>6</td>\n",
              "      <td>48</td>\n",
              "    </tr>\n",
              "    <tr>\n",
              "      <th>4</th>\n",
              "      <td>4</td>\n",
              "      <td>6</td>\n",
              "    </tr>\n",
              "    <tr>\n",
              "      <th>5</th>\n",
              "      <td>5</td>\n",
              "      <td>3</td>\n",
              "    </tr>\n",
              "    <tr>\n",
              "      <th>6</th>\n",
              "      <td>3</td>\n",
              "      <td>1</td>\n",
              "    </tr>\n",
              "  </tbody>\n",
              "</table>\n",
              "</div>"
            ],
            "text/plain": [
              "   region  count\n",
              "0       9   3880\n",
              "1       8    557\n",
              "2       7    222\n",
              "3       6     48\n",
              "4       4      6\n",
              "5       5      3\n",
              "6       3      1"
            ]
          },
          "metadata": {},
          "execution_count": 6
        }
      ]
    },
    {
      "cell_type": "code",
      "metadata": {
        "colab": {
          "base_uri": "https://localhost:8080/",
          "height": 297
        },
        "id": "TiWTIDD8mYDZ",
        "outputId": "f9cfe03a-4009-4b1f-88d8-9f33b0ca5438"
      },
      "source": [
        "wells_region.plot.bar(x='region', y='count', rot=0)"
      ],
      "execution_count": 7,
      "outputs": [
        {
          "output_type": "execute_result",
          "data": {
            "text/plain": [
              "<matplotlib.axes._subplots.AxesSubplot at 0x7f3030a93510>"
            ]
          },
          "metadata": {},
          "execution_count": 7
        },
        {
          "output_type": "display_data",
          "data": {
            "image/png": "[encoded data removed]",
            "text/plain": [
              "<Figure size 432x288 with 1 Axes>"
            ]
          },
          "metadata": {
            "needs_background": "light"
          }
        }
      ]
    },
    {
      "cell_type": "code",
      "metadata": {
        "colab": {
          "base_uri": "https://localhost:8080/"
        },
        "id": "-LbgqoSS4irJ",
        "outputId": "cf04df3b-49fe-46b1-f108-b76fc4da3231"
      },
      "source": [
        "#Calculating percentage of wells in each NYSDEC region\n",
        "df_located.REGION.value_counts(normalize=True)"
      ],
      "execution_count": 8,
      "outputs": [
        {
          "output_type": "execute_result",
          "data": {
            "text/plain": [
              "9    0.822557\n",
              "8    0.118084\n",
              "7    0.047064\n",
              "6    0.010176\n",
              "4    0.001272\n",
              "5    0.000636\n",
              "3    0.000212\n",
              "Name: REGION, dtype: float64"
            ]
          },
          "metadata": {},
          "execution_count": 8
        }
      ]
    },
    {
      "cell_type": "code",
      "metadata": {
        "colab": {
          "base_uri": "https://localhost:8080/",
          "height": 359
        },
        "id": "ywxaiFJs20xk",
        "outputId": "49166cf5-b43f-4aef-f0ee-fd69c44627d9"
      },
      "source": [
        "#Count number of wells in each county\n",
        "wells_county = df_located.COUNTY.value_counts().rename_axis('county').reset_index(name='count')\n",
        "wells_county.head(10)"
      ],
      "execution_count": 9,
      "outputs": [
        {
          "output_type": "execute_result",
          "data": {
            "text/html": [
              "<div>\n",
              "<style scoped>\n",
              "    .dataframe tbody tr th:only-of-type {\n",
              "        vertical-align: middle;\n",
              "    }\n",
              "\n",
              "    .dataframe tbody tr th {\n",
              "        vertical-align: top;\n",
              "    }\n",
              "\n",
              "    .dataframe thead th {\n",
              "        text-align: right;\n",
              "    }\n",
              "</style>\n",
              "<table border=\"1\" class=\"dataframe\">\n",
              "  <thead>\n",
              "    <tr style=\"text-align: right;\">\n",
              "      <th></th>\n",
              "      <th>county</th>\n",
              "      <th>count</th>\n",
              "    </tr>\n",
              "  </thead>\n",
              "  <tbody>\n",
              "    <tr>\n",
              "      <th>0</th>\n",
              "      <td>Allegany</td>\n",
              "      <td>2075</td>\n",
              "    </tr>\n",
              "    <tr>\n",
              "      <th>1</th>\n",
              "      <td>Cattaraugus</td>\n",
              "      <td>1370</td>\n",
              "    </tr>\n",
              "    <tr>\n",
              "      <th>2</th>\n",
              "      <td>Steuben</td>\n",
              "      <td>418</td>\n",
              "    </tr>\n",
              "    <tr>\n",
              "      <th>3</th>\n",
              "      <td>Erie</td>\n",
              "      <td>253</td>\n",
              "    </tr>\n",
              "    <tr>\n",
              "      <th>4</th>\n",
              "      <td>Chautauqua</td>\n",
              "      <td>146</td>\n",
              "    </tr>\n",
              "    <tr>\n",
              "      <th>5</th>\n",
              "      <td>Oswego</td>\n",
              "      <td>118</td>\n",
              "    </tr>\n",
              "    <tr>\n",
              "      <th>6</th>\n",
              "      <td>Ontario</td>\n",
              "      <td>43</td>\n",
              "    </tr>\n",
              "    <tr>\n",
              "      <th>7</th>\n",
              "      <td>Tompkins</td>\n",
              "      <td>37</td>\n",
              "    </tr>\n",
              "    <tr>\n",
              "      <th>8</th>\n",
              "      <td>Wyoming</td>\n",
              "      <td>33</td>\n",
              "    </tr>\n",
              "    <tr>\n",
              "      <th>9</th>\n",
              "      <td>Oneida</td>\n",
              "      <td>33</td>\n",
              "    </tr>\n",
              "  </tbody>\n",
              "</table>\n",
              "</div>"
            ],
            "text/plain": [
              "        county  count\n",
              "0     Allegany   2075\n",
              "1  Cattaraugus   1370\n",
              "2      Steuben    418\n",
              "3         Erie    253\n",
              "4   Chautauqua    146\n",
              "5       Oswego    118\n",
              "6      Ontario     43\n",
              "7     Tompkins     37\n",
              "8      Wyoming     33\n",
              "9       Oneida     33"
            ]
          },
          "metadata": {},
          "execution_count": 9
        }
      ]
    },
    {
      "cell_type": "code",
      "metadata": {
        "colab": {
          "base_uri": "https://localhost:8080/",
          "height": 17
        },
        "id": "egCRGQiHwAiq",
        "outputId": "0ee9cbaa-fd9d-4127-97dd-14a0d469bfe5"
      },
      "source": [
        "#Download CSV of number of unplugged and abandoned wells in each county – remove # in below script to run the download\n",
        "#wells_county.to_csv('unplug_abdn.csv') \n",
        "#files.download('unplug_abdn.csv')"
      ],
      "execution_count": 12,
      "outputs": [
        {
          "output_type": "display_data",
          "data": {
            "application/javascript": [
              "\n",
              "    async function download(id, filename, size) {\n",
              "      if (!google.colab.kernel.accessAllowed) {\n",
              "        return;\n",
              "      }\n",
              "      const div = document.createElement('div');\n",
              "      const label = document.createElement('label');\n",
              "      label.textContent = `Downloading \"${filename}\": `;\n",
              "      div.appendChild(label);\n",
              "      const progress = document.createElement('progress');\n",
              "      progress.max = size;\n",
              "      div.appendChild(progress);\n",
              "      document.body.appendChild(div);\n",
              "\n",
              "      const buffers = [];\n",
              "      let downloaded = 0;\n",
              "\n",
              "      const channel = await google.colab.kernel.comms.open(id);\n",
              "      // Send a message to notify the kernel that we're ready.\n",
              "      channel.send({})\n",
              "\n",
              "      for await (const message of channel.messages) {\n",
              "        // Send a message to notify the kernel that we're ready.\n",
              "        channel.send({})\n",
              "        if (message.buffers) {\n",
              "          for (const buffer of message.buffers) {\n",
              "            buffers.push(buffer);\n",
              "            downloaded += buffer.byteLength;\n",
              "            progress.value = downloaded;\n",
              "          }\n",
              "        }\n",
              "      }\n",
              "      const blob = new Blob(buffers, {type: 'application/binary'});\n",
              "      const a = document.createElement('a');\n",
              "      a.href = window.URL.createObjectURL(blob);\n",
              "      a.download = filename;\n",
              "      div.appendChild(a);\n",
              "      a.click();\n",
              "      div.remove();\n",
              "    }\n",
              "  "
            ],
            "text/plain": [
              "<IPython.core.display.Javascript object>"
            ]
          },
          "metadata": {}
        },
        {
          "output_type": "display_data",
          "data": {
            "application/javascript": [
              "download(\"download_83436b1a-60a6-4ed6-aa74-a7c4cfa7d735\", \"unplug_abdn.csv\", 537)"
            ],
            "text/plain": [
              "<IPython.core.display.Javascript object>"
            ]
          },
          "metadata": {}
        }
      ]
    },
    {
      "cell_type": "code",
      "metadata": {
        "colab": {
          "base_uri": "https://localhost:8080/",
          "height": 324
        },
        "id": "Mtq1Sk2lozJI",
        "outputId": "3d62912b-a92b-4700-f0d7-5f5f806e59a7"
      },
      "source": [
        "county = wells_county['county'].head(10)\n",
        "county_ct = wells_county['count'].head(10)\n",
        "\n",
        "plt.bar(county, county_ct, width = 0.4)\n",
        "plt.xticks(rotation=45)"
      ],
      "execution_count": 13,
      "outputs": [
        {
          "output_type": "execute_result",
          "data": {
            "text/plain": [
              "([0, 1, 2, 3, 4, 5, 6, 7, 8, 9], <a list of 10 Text major ticklabel objects>)"
            ]
          },
          "metadata": {},
          "execution_count": 13
        },
        {
          "output_type": "display_data",
          "data": {
            "image/png": "[encoded data removed]",
            "text/plain": [
              "<Figure size 432x288 with 1 Axes>"
            ]
          },
          "metadata": {
            "needs_background": "light"
          }
        }
      ]
    },
    {
      "cell_type": "code",
      "metadata": {
        "colab": {
          "base_uri": "https://localhost:8080/"
        },
        "id": "xTVm7tHQ4zAf",
        "outputId": "26d51cdd-2e57-41fe-f945-bd425bf6ad6d"
      },
      "source": [
        "#Calculating percent of wells in each county\n",
        "df_located.COUNTY.value_counts(normalize=True)"
      ],
      "execution_count": 14,
      "outputs": [
        {
          "output_type": "execute_result",
          "data": {
            "text/plain": [
              "Allegany       0.439898\n",
              "Cattaraugus    0.290439\n",
              "Steuben        0.088616\n",
              "Erie           0.053636\n",
              "Chautauqua     0.030952\n",
              "Oswego         0.025016\n",
              "Ontario        0.009116\n",
              "Tompkins       0.007844\n",
              "Wyoming        0.006996\n",
              "Oneida         0.006996\n",
              "Genesee        0.005088\n",
              "Livingston     0.004452\n",
              "Schuyler       0.004240\n",
              "Madison        0.003604\n",
              "Cayuga         0.002756\n",
              "Onondaga       0.002756\n",
              "Chemung        0.002120\n",
              "Yates          0.001908\n",
              "Tioga          0.001696\n",
              "Broome         0.001696\n",
              "Seneca         0.001484\n",
              "Lewis          0.001272\n",
              "Jefferson      0.001272\n",
              "Chenango       0.001060\n",
              "Herkimer       0.000636\n",
              "Cortland       0.000636\n",
              "Niagara        0.000636\n",
              "Monroe         0.000636\n",
              "Washington     0.000424\n",
              "Albany         0.000424\n",
              "Schenectady    0.000212\n",
              "Wayne          0.000212\n",
              "Schoharie      0.000212\n",
              "Sullivan       0.000212\n",
              "Orleans        0.000212\n",
              "Montgomery     0.000212\n",
              "Delaware       0.000212\n",
              "Warren         0.000212\n",
              "Name: COUNTY, dtype: float64"
            ]
          },
          "metadata": {},
          "execution_count": 14
        }
      ]
    },
    {
      "cell_type": "code",
      "metadata": {
        "colab": {
          "base_uri": "https://localhost:8080/",
          "height": 824
        },
        "id": "pAGCvQTR3Kzk",
        "outputId": "ddef9fb2-5bc7-41ad-ac83-97cf8192fc6e"
      },
      "source": [
        "#Calculating number of wells in each town\n",
        "wells_city = df_located.TOWN.value_counts().rename_axis('city').reset_index(name='count')\n",
        "wells_city.head(25)"
      ],
      "execution_count": 15,
      "outputs": [
        {
          "output_type": "execute_result",
          "data": {
            "text/html": [
              "<div>\n",
              "<style scoped>\n",
              "    .dataframe tbody tr th:only-of-type {\n",
              "        vertical-align: middle;\n",
              "    }\n",
              "\n",
              "    .dataframe tbody tr th {\n",
              "        vertical-align: top;\n",
              "    }\n",
              "\n",
              "    .dataframe thead th {\n",
              "        text-align: right;\n",
              "    }\n",
              "</style>\n",
              "<table border=\"1\" class=\"dataframe\">\n",
              "  <thead>\n",
              "    <tr style=\"text-align: right;\">\n",
              "      <th></th>\n",
              "      <th>city</th>\n",
              "      <th>count</th>\n",
              "    </tr>\n",
              "  </thead>\n",
              "  <tbody>\n",
              "    <tr>\n",
              "      <th>0</th>\n",
              "      <td>Allegany</td>\n",
              "      <td>1142</td>\n",
              "    </tr>\n",
              "    <tr>\n",
              "      <th>1</th>\n",
              "      <td>Bolivar</td>\n",
              "      <td>954</td>\n",
              "    </tr>\n",
              "    <tr>\n",
              "      <th>2</th>\n",
              "      <td>Wirt</td>\n",
              "      <td>357</td>\n",
              "    </tr>\n",
              "    <tr>\n",
              "      <th>3</th>\n",
              "      <td>West Union</td>\n",
              "      <td>340</td>\n",
              "    </tr>\n",
              "    <tr>\n",
              "      <th>4</th>\n",
              "      <td>Alma</td>\n",
              "      <td>336</td>\n",
              "    </tr>\n",
              "    <tr>\n",
              "      <th>5</th>\n",
              "      <td>Genesee</td>\n",
              "      <td>178</td>\n",
              "    </tr>\n",
              "    <tr>\n",
              "      <th>6</th>\n",
              "      <td>Carrollton</td>\n",
              "      <td>83</td>\n",
              "    </tr>\n",
              "    <tr>\n",
              "      <th>7</th>\n",
              "      <td>Scio</td>\n",
              "      <td>79</td>\n",
              "    </tr>\n",
              "    <tr>\n",
              "      <th>8</th>\n",
              "      <td>Collins</td>\n",
              "      <td>61</td>\n",
              "    </tr>\n",
              "    <tr>\n",
              "      <th>9</th>\n",
              "      <td>Sandy Creek</td>\n",
              "      <td>56</td>\n",
              "    </tr>\n",
              "    <tr>\n",
              "      <th>10</th>\n",
              "      <td>Olean</td>\n",
              "      <td>50</td>\n",
              "    </tr>\n",
              "    <tr>\n",
              "      <th>11</th>\n",
              "      <td>Brant</td>\n",
              "      <td>48</td>\n",
              "    </tr>\n",
              "    <tr>\n",
              "      <th>12</th>\n",
              "      <td>Willing</td>\n",
              "      <td>45</td>\n",
              "    </tr>\n",
              "    <tr>\n",
              "      <th>13</th>\n",
              "      <td>Wellsville</td>\n",
              "      <td>45</td>\n",
              "    </tr>\n",
              "    <tr>\n",
              "      <th>14</th>\n",
              "      <td>Richland</td>\n",
              "      <td>39</td>\n",
              "    </tr>\n",
              "    <tr>\n",
              "      <th>15</th>\n",
              "      <td>Busti</td>\n",
              "      <td>36</td>\n",
              "    </tr>\n",
              "    <tr>\n",
              "      <th>16</th>\n",
              "      <td>Red House</td>\n",
              "      <td>34</td>\n",
              "    </tr>\n",
              "    <tr>\n",
              "      <th>17</th>\n",
              "      <td>Clarksville</td>\n",
              "      <td>30</td>\n",
              "    </tr>\n",
              "    <tr>\n",
              "      <th>18</th>\n",
              "      <td>Sheridan</td>\n",
              "      <td>29</td>\n",
              "    </tr>\n",
              "    <tr>\n",
              "      <th>19</th>\n",
              "      <td>Perrysburg</td>\n",
              "      <td>28</td>\n",
              "    </tr>\n",
              "    <tr>\n",
              "      <th>20</th>\n",
              "      <td>Hanover</td>\n",
              "      <td>25</td>\n",
              "    </tr>\n",
              "    <tr>\n",
              "      <th>21</th>\n",
              "      <td>Alden</td>\n",
              "      <td>25</td>\n",
              "    </tr>\n",
              "    <tr>\n",
              "      <th>22</th>\n",
              "      <td>UNK</td>\n",
              "      <td>19</td>\n",
              "    </tr>\n",
              "    <tr>\n",
              "      <th>23</th>\n",
              "      <td>Lancaster</td>\n",
              "      <td>18</td>\n",
              "    </tr>\n",
              "    <tr>\n",
              "      <th>24</th>\n",
              "      <td>Camden</td>\n",
              "      <td>17</td>\n",
              "    </tr>\n",
              "  </tbody>\n",
              "</table>\n",
              "</div>"
            ],
            "text/plain": [
              "           city  count\n",
              "0      Allegany   1142\n",
              "1       Bolivar    954\n",
              "2          Wirt    357\n",
              "3    West Union    340\n",
              "4          Alma    336\n",
              "5       Genesee    178\n",
              "6    Carrollton     83\n",
              "7          Scio     79\n",
              "8       Collins     61\n",
              "9   Sandy Creek     56\n",
              "10        Olean     50\n",
              "11        Brant     48\n",
              "12      Willing     45\n",
              "13   Wellsville     45\n",
              "14     Richland     39\n",
              "15        Busti     36\n",
              "16    Red House     34\n",
              "17  Clarksville     30\n",
              "18     Sheridan     29\n",
              "19   Perrysburg     28\n",
              "20      Hanover     25\n",
              "21        Alden     25\n",
              "22          UNK     19\n",
              "23    Lancaster     18\n",
              "24       Camden     17"
            ]
          },
          "metadata": {},
          "execution_count": 15
        }
      ]
    },
    {
      "cell_type": "code",
      "metadata": {
        "colab": {
          "base_uri": "https://localhost:8080/",
          "height": 325
        },
        "id": "YxjWmronsTfE",
        "outputId": "95be1346-59a0-4fb6-c048-72340d6d1e30"
      },
      "source": [
        "city = wells_city['city'].head(10)\n",
        "city_ct = wells_city['count'].head(10)\n",
        "\n",
        "plt.bar(city, city_ct, width = 0.4)\n",
        "plt.xticks(rotation=45)"
      ],
      "execution_count": 16,
      "outputs": [
        {
          "output_type": "execute_result",
          "data": {
            "text/plain": [
              "([0, 1, 2, 3, 4, 5, 6, 7, 8, 9], <a list of 10 Text major ticklabel objects>)"
            ]
          },
          "metadata": {},
          "execution_count": 16
        },
        {
          "output_type": "display_data",
          "data": {
            "image/png": "[encoded data removed]",
            "text/plain": [
              "<Figure size 432x288 with 1 Axes>"
            ]
          },
          "metadata": {
            "needs_background": "light"
          }
        }
      ]
    },
    {
      "cell_type": "code",
      "metadata": {
        "colab": {
          "base_uri": "https://localhost:8080/"
        },
        "id": "DFMFe9fB45Ya",
        "outputId": "c96d66f1-acf5-4c15-a880-e18ca66a161d"
      },
      "source": [
        "#Calculating percent of wells in each town\n",
        "df_located.TOWN.value_counts(normalize=True).head(25)"
      ],
      "execution_count": 17,
      "outputs": [
        {
          "output_type": "execute_result",
          "data": {
            "text/plain": [
              "Allegany       0.242103\n",
              "Bolivar        0.202247\n",
              "Wirt           0.075684\n",
              "West Union     0.072080\n",
              "Alma           0.071232\n",
              "Genesee        0.037736\n",
              "Carrollton     0.017596\n",
              "Scio           0.016748\n",
              "Collins        0.012932\n",
              "Sandy Creek    0.011872\n",
              "Olean          0.010600\n",
              "Brant          0.010176\n",
              "Willing        0.009540\n",
              "Wellsville     0.009540\n",
              "Richland       0.008268\n",
              "Busti          0.007632\n",
              "Red House      0.007208\n",
              "Clarksville    0.006360\n",
              "Sheridan       0.006148\n",
              "Perrysburg     0.005936\n",
              "Hanover        0.005300\n",
              "Alden          0.005300\n",
              "UNK            0.004028\n",
              "Lancaster      0.003816\n",
              "Camden         0.003604\n",
              "Name: TOWN, dtype: float64"
            ]
          },
          "metadata": {},
          "execution_count": 17
        }
      ]
    }
  ]
}