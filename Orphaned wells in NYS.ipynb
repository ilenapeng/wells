{
 "cells": [
  {
   "cell_type": "markdown",
   "metadata": {
    "colab": {
     "base_uri": "https://localhost:8080/",
     "height": 35
    },
    "id": "uqOnDSnO2SrC",
    "outputId": "09dc8f8c-0027-46f4-aab8-59ea519ae4b9"
   },
   "source": [
    "# Assessing orphaned wells in NY\n",
    "\n",
    "**Data source:**\n",
    "[Orphaned Wells](https://data.ny.gov/Energy-Environment/Orphaned-Wells/vgue-bamz): \"List of wells that are regulated under the Oil, Gas and Solution Mining Law (ECL Article 23) in New York State that are orphaned and not plugged,\" Last Updated: 12/16/21 | Downloaded: 3/25/22\n",
    "\n",
    "In this notebook, we are breaking down orphaned wells in New York by region, county and town. \n",
    "\n",
    "**Key terminology:**\n",
    "\n",
    "'Orphaned wells' and 'abandoned wells' are **NOT** the same thing. It's also important to note that the definitions of these types of wells can vary state by state. Here's a brief explanation of how the NY DEC defines the two. For more info, [click here](https://www.dec.ny.gov/energy/111211.html#:~:text=Orphaned%20and%20Abandoned%20Wells&text=Orphaned%20wells%20are%20a%20subset,regulatory%20framework%20in%20New%20York)\n",
    "* Abandoned wells: \"Abandoned wells are unplugged wells (primarily oil or gas wells) that have not been operated and maintained in accordance with prevailing statute and regulation.\"\n",
    "* Orphaned wells: \"Orphaned wells are a subset of abandoned wells for which no owner can be determined.\"\n",
    "\n",
    "In other words, all orphaned wells are abandoned wells, but not all abandoned wells are orphaned wells.\n"
   ]
  },
  {
   "cell_type": "code",
   "execution_count": 1,
   "metadata": {},
   "outputs": [
    {
     "name": "stderr",
     "output_type": "stream",
     "text": [
      "/Users/ilenapeng/.pyenv/versions/3.9.7/lib/python3.9/site-packages/pandas/compat/__init__.py:124: UserWarning: Could not import the lzma module. Your installed Python is incomplete. Attempting to use lzma compression will result in a RuntimeError.\n",
      "  warnings.warn(msg)\n"
     ]
    },
    {
     "data": {
      "text/plain": [
       "'1.3.4'"
      ]
     },
     "execution_count": 1,
     "metadata": {},
     "output_type": "execute_result"
    }
   ],
   "source": [
    "#Import pandas\n",
    "from __future__ import print_function\n",
    "\n",
    "import pandas as pd\n",
    "pd.__version__"
   ]
  },
  {
   "cell_type": "code",
   "execution_count": 2,
   "metadata": {
    "id": "hKzkdUUH_gk_"
   },
   "outputs": [],
   "source": [
    "import numpy as np\n",
    "\n",
    "import matplotlib as mpl\n",
    "import matplotlib.pyplot as plt"
   ]
  },
  {
   "cell_type": "code",
   "execution_count": 3,
   "metadata": {
    "id": "QwFFvwwa2fSH"
   },
   "outputs": [],
   "source": [
    "df = pd.read_csv(\"data_3_25_22/data_raw_32522/wells_orphaned_32522.csv\")\n",
    "#Replace spaces in column names and change to lowercase\n",
    "df.columns = df.columns.str.replace(' ', '_').str.lower()"
   ]
  },
  {
   "cell_type": "code",
   "execution_count": 4,
   "metadata": {},
   "outputs": [
    {
     "data": {
      "text/plain": [
       "Index(['company_name', 'county', 'town', 'api_well_number', 'well_name',\n",
       "       'well_status', 'well_type_code', 'surface_longitude',\n",
       "       'surface_latitude', 'verified_location', 'region', 'georeference'],\n",
       "      dtype='object')"
      ]
     },
     "execution_count": 4,
     "metadata": {},
     "output_type": "execute_result"
    }
   ],
   "source": [
    "df.columns"
   ]
  },
  {
   "cell_type": "markdown",
   "metadata": {},
   "source": [
    "**Reference note:** It seems the DEC has updated their dataset since we last downloaded in Oct. 2021. Previously, the below column called for 'WELLSTATUSCODE', but the values referenced in this column are now reflected in the 'well_status' column."
   ]
  },
  {
   "cell_type": "markdown",
   "metadata": {},
   "source": [
    "# 1. Looking at wells by status:\n",
    "\n",
    "[Data dictionary here](https://data.ny.gov/Energy-Environment/Orphaned-Wells/vgue-bamz)\n",
    "\n",
    "* UN: well status unknown, but detail on location, etc, provided to DEC through misc. means\n",
    "* UL: well status unknown, but well located and inspection performed\n",
    "* UM: well status unknown, DEC was unable to locate the well\n",
    "\n",
    "For now, we want to filter out wells the DEC has NOT been able to locate. \n",
    "\n",
    "**Conclusions as of 3/25/22:**\n",
    "* There are 6,808 known orphaned wells in New York state. \n",
    "* There are 4,649 wells that have been successfully located by the DEC, but have an unknown status. These wells remain unplugged. \n",
    "* There are 2,159 wells the DEC knows to exist, but has yet to locate. These wells are also unplugged. "
   ]
  },
  {
   "cell_type": "code",
   "execution_count": 5,
   "metadata": {
    "colab": {
     "base_uri": "https://localhost:8080/"
    },
    "id": "-jxx63Mw6P7u",
    "outputId": "c917ab63-b7c2-4ccd-81ce-2c3009b2c869"
   },
   "outputs": [
    {
     "data": {
      "text/plain": [
       "UN    2337\n",
       "UL    2312\n",
       "UM    2159\n",
       "Name: well_status, dtype: int64"
      ]
     },
     "execution_count": 5,
     "metadata": {},
     "output_type": "execute_result"
    }
   ],
   "source": [
    "df.well_status.value_counts()\n",
    "#UN: well status unknown, but detail on location, etc, provided to DEC through misc. means\n",
    "#UL: well status unknown, but well located and inspection performed\n",
    "#UM: well status unknown, DEC was unable to locate the well"
   ]
  },
  {
   "cell_type": "code",
   "execution_count": 6,
   "metadata": {
    "id": "ILW2F4aA60G5"
   },
   "outputs": [],
   "source": [
    "# Filtering out wells the DEC was unable to locate\n",
    "df_located = df[df['well_status']!='UM']"
   ]
  },
  {
   "cell_type": "code",
   "execution_count": 7,
   "metadata": {
    "colab": {
     "base_uri": "https://localhost:8080/"
    },
    "id": "2CrFOE2DqsTD",
    "outputId": "376e710b-980e-42e5-df36-8456479d26e4"
   },
   "outputs": [
    {
     "data": {
      "text/plain": [
       "4649"
      ]
     },
     "execution_count": 7,
     "metadata": {},
     "output_type": "execute_result"
    }
   ],
   "source": [
    "len(df_located)"
   ]
  },
  {
   "cell_type": "code",
   "execution_count": 8,
   "metadata": {},
   "outputs": [
    {
     "data": {
      "text/plain": [
       "6808"
      ]
     },
     "execution_count": 8,
     "metadata": {},
     "output_type": "execute_result"
    }
   ],
   "source": [
    "# Number of total orphaned wells in the state\n",
    "len(df)"
   ]
  },
  {
   "cell_type": "markdown",
   "metadata": {},
   "source": [
    "**Reference note:** Since our last download in Oct. 2021, the DEC has located over 60 wells. "
   ]
  },
  {
   "cell_type": "markdown",
   "metadata": {},
   "source": [
    "# 2. Counting wells by NY DEC Region \n",
    "\n",
    "Here, we look at the distribution of orphaned wells by the regions in the state, determined by the DEC (more info [here](https://www.dec.ny.gov/about/558.html) and [here](https://www.dec.ny.gov/about/76070.html))\n",
    "\n",
    "**Conclusions as of 3/25/22:**\n",
    "* Region 9, or Western NY has the most orphaned wells at 3,815 **(82 percent of the orphaned wells in the state)**\n",
    "* Region 8, or the Finger Lakes, is a distant second with 558 orphaned wells "
   ]
  },
  {
   "cell_type": "code",
   "execution_count": 9,
   "metadata": {
    "colab": {
     "base_uri": "https://localhost:8080/",
     "height": 266
    },
    "id": "uLTJewf_4UN8",
    "outputId": "3daab050-938c-407b-d519-b6f6872c6abf"
   },
   "outputs": [
    {
     "data": {
      "text/html": [
       "<div>\n",
       "<style scoped>\n",
       "    .dataframe tbody tr th:only-of-type {\n",
       "        vertical-align: middle;\n",
       "    }\n",
       "\n",
       "    .dataframe tbody tr th {\n",
       "        vertical-align: top;\n",
       "    }\n",
       "\n",
       "    .dataframe thead th {\n",
       "        text-align: right;\n",
       "    }\n",
       "</style>\n",
       "<table border=\"1\" class=\"dataframe\">\n",
       "  <thead>\n",
       "    <tr style=\"text-align: right;\">\n",
       "      <th></th>\n",
       "      <th>region</th>\n",
       "      <th>count</th>\n",
       "    </tr>\n",
       "  </thead>\n",
       "  <tbody>\n",
       "    <tr>\n",
       "      <th>0</th>\n",
       "      <td>9</td>\n",
       "      <td>3815</td>\n",
       "    </tr>\n",
       "    <tr>\n",
       "      <th>1</th>\n",
       "      <td>8</td>\n",
       "      <td>558</td>\n",
       "    </tr>\n",
       "    <tr>\n",
       "      <th>2</th>\n",
       "      <td>7</td>\n",
       "      <td>217</td>\n",
       "    </tr>\n",
       "    <tr>\n",
       "      <th>3</th>\n",
       "      <td>6</td>\n",
       "      <td>48</td>\n",
       "    </tr>\n",
       "    <tr>\n",
       "      <th>4</th>\n",
       "      <td>4</td>\n",
       "      <td>7</td>\n",
       "    </tr>\n",
       "    <tr>\n",
       "      <th>5</th>\n",
       "      <td>5</td>\n",
       "      <td>3</td>\n",
       "    </tr>\n",
       "    <tr>\n",
       "      <th>6</th>\n",
       "      <td>3</td>\n",
       "      <td>1</td>\n",
       "    </tr>\n",
       "  </tbody>\n",
       "</table>\n",
       "</div>"
      ],
      "text/plain": [
       "   region  count\n",
       "0       9   3815\n",
       "1       8    558\n",
       "2       7    217\n",
       "3       6     48\n",
       "4       4      7\n",
       "5       5      3\n",
       "6       3      1"
      ]
     },
     "execution_count": 9,
     "metadata": {},
     "output_type": "execute_result"
    }
   ],
   "source": [
    "# Counting number of wells in each region\n",
    "wells_region = df_located.region.value_counts().rename_axis('region').reset_index(name='count')\n",
    "wells_region"
   ]
  },
  {
   "cell_type": "code",
   "execution_count": 10,
   "metadata": {
    "colab": {
     "base_uri": "https://localhost:8080/",
     "height": 297
    },
    "id": "TiWTIDD8mYDZ",
    "outputId": "54ec888b-f21f-4fb7-92cd-734e59dbf764"
   },
   "outputs": [
    {
     "data": {
      "text/plain": [
       "<AxesSubplot:title={'center':'Count of orphaned wells by NYDEC Region'}, xlabel='region'>"
      ]
     },
     "execution_count": 10,
     "metadata": {},
     "output_type": "execute_result"
    },
    {
     "data": {
      "image/png": "[encoded data removed]",
      "text/plain": [
       "<Figure size 432x288 with 1 Axes>"
      ]
     },
     "metadata": {
      "needs_background": "light"
     },
     "output_type": "display_data"
    }
   ],
   "source": [
    "# Visualization of well count by region in New York\n",
    "wells_region.plot.bar(x='region', y='count', rot=0, title='Count of orphaned wells by NYDEC Region')"
   ]
  },
  {
   "cell_type": "code",
   "execution_count": 11,
   "metadata": {
    "colab": {
     "base_uri": "https://localhost:8080/"
    },
    "id": "-LbgqoSS4irJ",
    "outputId": "39a756d9-f8f5-4ac8-ef9b-a61b2864c0b7"
   },
   "outputs": [
    {
     "data": {
      "text/plain": [
       "9    0.820607\n",
       "8    0.120026\n",
       "7    0.046677\n",
       "6    0.010325\n",
       "4    0.001506\n",
       "5    0.000645\n",
       "3    0.000215\n",
       "Name: region, dtype: float64"
      ]
     },
     "execution_count": 11,
     "metadata": {},
     "output_type": "execute_result"
    }
   ],
   "source": [
    "# Calculating percentage of wells in each NYSDEC region\n",
    "df_located.region.value_counts(normalize=True)"
   ]
  },
  {
   "cell_type": "markdown",
   "metadata": {},
   "source": [
    "# 3. Counting wells by county\n",
    "\n",
    "Now, we're taking a look at the distribution of orphaned wells by county. \n",
    "\n",
    "**Conclusions as of 3/25/22:**\n",
    "* Allegany County has the majority of orphaned wells in the state at 2,324 **(49.9 percent of the orphaned wells in the state)**\n",
    "* Cattaraugus County is in second at 1,083 orphaned wells (23.23 percent of the orphaned wells in the state) \n",
    "* Steuben County is in third at 421 orphaned wells (9 percent of the orphaned wells in the state)\n",
    "* These three counties account for over 80 percent (82.3 percent) of the orphaned wells in the state"
   ]
  },
  {
   "cell_type": "code",
   "execution_count": 12,
   "metadata": {
    "colab": {
     "base_uri": "https://localhost:8080/",
     "height": 359
    },
    "id": "ywxaiFJs20xk",
    "outputId": "9b07fc7b-69ba-480f-e16b-bbad12266430"
   },
   "outputs": [
    {
     "data": {
      "text/html": [
       "<div>\n",
       "<style scoped>\n",
       "    .dataframe tbody tr th:only-of-type {\n",
       "        vertical-align: middle;\n",
       "    }\n",
       "\n",
       "    .dataframe tbody tr th {\n",
       "        vertical-align: top;\n",
       "    }\n",
       "\n",
       "    .dataframe thead th {\n",
       "        text-align: right;\n",
       "    }\n",
       "</style>\n",
       "<table border=\"1\" class=\"dataframe\">\n",
       "  <thead>\n",
       "    <tr style=\"text-align: right;\">\n",
       "      <th></th>\n",
       "      <th>county</th>\n",
       "      <th>count</th>\n",
       "    </tr>\n",
       "  </thead>\n",
       "  <tbody>\n",
       "    <tr>\n",
       "      <th>0</th>\n",
       "      <td>Allegany</td>\n",
       "      <td>2324</td>\n",
       "    </tr>\n",
       "    <tr>\n",
       "      <th>1</th>\n",
       "      <td>Cattaraugus</td>\n",
       "      <td>1083</td>\n",
       "    </tr>\n",
       "    <tr>\n",
       "      <th>2</th>\n",
       "      <td>Steuben</td>\n",
       "      <td>421</td>\n",
       "    </tr>\n",
       "    <tr>\n",
       "      <th>3</th>\n",
       "      <td>Erie</td>\n",
       "      <td>248</td>\n",
       "    </tr>\n",
       "    <tr>\n",
       "      <th>4</th>\n",
       "      <td>Chautauqua</td>\n",
       "      <td>127</td>\n",
       "    </tr>\n",
       "    <tr>\n",
       "      <th>5</th>\n",
       "      <td>Oswego</td>\n",
       "      <td>110</td>\n",
       "    </tr>\n",
       "    <tr>\n",
       "      <th>6</th>\n",
       "      <td>Ontario</td>\n",
       "      <td>43</td>\n",
       "    </tr>\n",
       "    <tr>\n",
       "      <th>7</th>\n",
       "      <td>Tompkins</td>\n",
       "      <td>36</td>\n",
       "    </tr>\n",
       "    <tr>\n",
       "      <th>8</th>\n",
       "      <td>Oneida</td>\n",
       "      <td>33</td>\n",
       "    </tr>\n",
       "    <tr>\n",
       "      <th>9</th>\n",
       "      <td>Wyoming</td>\n",
       "      <td>30</td>\n",
       "    </tr>\n",
       "  </tbody>\n",
       "</table>\n",
       "</div>"
      ],
      "text/plain": [
       "        county  count\n",
       "0     Allegany   2324\n",
       "1  Cattaraugus   1083\n",
       "2      Steuben    421\n",
       "3         Erie    248\n",
       "4   Chautauqua    127\n",
       "5       Oswego    110\n",
       "6      Ontario     43\n",
       "7     Tompkins     36\n",
       "8       Oneida     33\n",
       "9      Wyoming     30"
      ]
     },
     "execution_count": 12,
     "metadata": {},
     "output_type": "execute_result"
    }
   ],
   "source": [
    "# Count number of wells in each county\n",
    "wells_county = df_located.county.value_counts().rename_axis('county').reset_index(name='count')\n",
    "wells_county.head(10)"
   ]
  },
  {
   "cell_type": "code",
   "execution_count": 13,
   "metadata": {},
   "outputs": [
    {
     "data": {
      "text/plain": [
       "Allegany       0.499892\n",
       "Cattaraugus    0.232953\n",
       "Steuben        0.090557\n",
       "Erie           0.053345\n",
       "Chautauqua     0.027318\n",
       "Oswego         0.023661\n",
       "Ontario        0.009249\n",
       "Tompkins       0.007744\n",
       "Oneida         0.007098\n",
       "Wyoming        0.006453\n",
       "Name: county, dtype: float64"
      ]
     },
     "execution_count": 13,
     "metadata": {},
     "output_type": "execute_result"
    }
   ],
   "source": [
    "# Percentage split of orphaned wells by county \n",
    "df_located.county.value_counts(normalize=True).head(10)"
   ]
  },
  {
   "cell_type": "code",
   "execution_count": 14,
   "metadata": {},
   "outputs": [
    {
     "data": {
      "text/plain": [
       "0.8234028823402882"
      ]
     },
     "execution_count": 14,
     "metadata": {},
     "output_type": "execute_result"
    }
   ],
   "source": [
    "# The top 3 counties with orphaned wells account for 82% of the orphaned wells in the state\n",
    "df_located.county.value_counts(normalize=True).head(3).sum()"
   ]
  },
  {
   "cell_type": "code",
   "execution_count": 15,
   "metadata": {
    "id": "egCRGQiHwAiq"
   },
   "outputs": [],
   "source": [
    "#Download CSV of number of unplugged and abandoned wells in each county\n",
    "wells_county.to_csv('data_3_25_22/data_processed_32522/unplug_orphaned_32522.csv', index=False) "
   ]
  },
  {
   "cell_type": "code",
   "execution_count": 16,
   "metadata": {
    "colab": {
     "base_uri": "https://localhost:8080/"
    },
    "id": "xTVm7tHQ4zAf",
    "outputId": "ed6c139e-ff8e-460c-f18b-53e3a5c6398d"
   },
   "outputs": [],
   "source": [
    "# Calculating percent of wells in each county\n",
    "# df_located.county.value_counts(normalize=True)"
   ]
  },
  {
   "cell_type": "markdown",
   "metadata": {},
   "source": [
    "# 3. Counting wells by town\n",
    "\n",
    "And finally, we're looking at the distribution of orphaned wells by town. \n",
    "\n",
    "**Conclusions as of 3/25/22:**\n",
    "* Bolivar has the most orphaned wells at 1,079 (24.3 percent of orphaned wells in the state)\n",
    "* Allegany is second with 886 orphaned wells (19.9 percent of orphaned wells in the state)"
   ]
  },
  {
   "cell_type": "code",
   "execution_count": 17,
   "metadata": {
    "colab": {
     "base_uri": "https://localhost:8080/",
     "height": 824
    },
    "id": "pAGCvQTR3Kzk",
    "outputId": "a4116ddd-7a6b-4bdf-d9a3-ec03cdea9a35"
   },
   "outputs": [
    {
     "data": {
      "text/html": [
       "<div>\n",
       "<style scoped>\n",
       "    .dataframe tbody tr th:only-of-type {\n",
       "        vertical-align: middle;\n",
       "    }\n",
       "\n",
       "    .dataframe tbody tr th {\n",
       "        vertical-align: top;\n",
       "    }\n",
       "\n",
       "    .dataframe thead th {\n",
       "        text-align: right;\n",
       "    }\n",
       "</style>\n",
       "<table border=\"1\" class=\"dataframe\">\n",
       "  <thead>\n",
       "    <tr style=\"text-align: right;\">\n",
       "      <th></th>\n",
       "      <th>city</th>\n",
       "      <th>count</th>\n",
       "    </tr>\n",
       "  </thead>\n",
       "  <tbody>\n",
       "    <tr>\n",
       "      <th>0</th>\n",
       "      <td>Bolivar</td>\n",
       "      <td>1079</td>\n",
       "    </tr>\n",
       "    <tr>\n",
       "      <th>1</th>\n",
       "      <td>Allegany</td>\n",
       "      <td>886</td>\n",
       "    </tr>\n",
       "    <tr>\n",
       "      <th>2</th>\n",
       "      <td>Wirt</td>\n",
       "      <td>356</td>\n",
       "    </tr>\n",
       "    <tr>\n",
       "      <th>3</th>\n",
       "      <td>West Union</td>\n",
       "      <td>340</td>\n",
       "    </tr>\n",
       "    <tr>\n",
       "      <th>4</th>\n",
       "      <td>Alma</td>\n",
       "      <td>339</td>\n",
       "    </tr>\n",
       "    <tr>\n",
       "      <th>5</th>\n",
       "      <td>Genesee</td>\n",
       "      <td>160</td>\n",
       "    </tr>\n",
       "    <tr>\n",
       "      <th>6</th>\n",
       "      <td>Scio</td>\n",
       "      <td>86</td>\n",
       "    </tr>\n",
       "    <tr>\n",
       "      <th>7</th>\n",
       "      <td>Carrollton</td>\n",
       "      <td>77</td>\n",
       "    </tr>\n",
       "    <tr>\n",
       "      <th>8</th>\n",
       "      <td>Collins</td>\n",
       "      <td>56</td>\n",
       "    </tr>\n",
       "    <tr>\n",
       "      <th>9</th>\n",
       "      <td>Sandy Creek</td>\n",
       "      <td>52</td>\n",
       "    </tr>\n",
       "    <tr>\n",
       "      <th>10</th>\n",
       "      <td>Brant</td>\n",
       "      <td>48</td>\n",
       "    </tr>\n",
       "    <tr>\n",
       "      <th>11</th>\n",
       "      <td>Richland</td>\n",
       "      <td>36</td>\n",
       "    </tr>\n",
       "    <tr>\n",
       "      <th>12</th>\n",
       "      <td>Busti</td>\n",
       "      <td>36</td>\n",
       "    </tr>\n",
       "    <tr>\n",
       "      <th>13</th>\n",
       "      <td>Olean</td>\n",
       "      <td>32</td>\n",
       "    </tr>\n",
       "    <tr>\n",
       "      <th>14</th>\n",
       "      <td>Clarksville</td>\n",
       "      <td>30</td>\n",
       "    </tr>\n",
       "    <tr>\n",
       "      <th>15</th>\n",
       "      <td>Perrysburg</td>\n",
       "      <td>29</td>\n",
       "    </tr>\n",
       "    <tr>\n",
       "      <th>16</th>\n",
       "      <td>Red House</td>\n",
       "      <td>28</td>\n",
       "    </tr>\n",
       "    <tr>\n",
       "      <th>17</th>\n",
       "      <td>Sheridan</td>\n",
       "      <td>26</td>\n",
       "    </tr>\n",
       "    <tr>\n",
       "      <th>18</th>\n",
       "      <td>Alden</td>\n",
       "      <td>26</td>\n",
       "    </tr>\n",
       "    <tr>\n",
       "      <th>19</th>\n",
       "      <td>UNK</td>\n",
       "      <td>19</td>\n",
       "    </tr>\n",
       "    <tr>\n",
       "      <th>20</th>\n",
       "      <td>Hanover</td>\n",
       "      <td>19</td>\n",
       "    </tr>\n",
       "    <tr>\n",
       "      <th>21</th>\n",
       "      <td>Tonawanda</td>\n",
       "      <td>17</td>\n",
       "    </tr>\n",
       "    <tr>\n",
       "      <th>22</th>\n",
       "      <td>Willing</td>\n",
       "      <td>17</td>\n",
       "    </tr>\n",
       "    <tr>\n",
       "      <th>23</th>\n",
       "      <td>Lancaster</td>\n",
       "      <td>17</td>\n",
       "    </tr>\n",
       "    <tr>\n",
       "      <th>24</th>\n",
       "      <td>Camden</td>\n",
       "      <td>17</td>\n",
       "    </tr>\n",
       "  </tbody>\n",
       "</table>\n",
       "</div>"
      ],
      "text/plain": [
       "           city  count\n",
       "0       Bolivar   1079\n",
       "1      Allegany    886\n",
       "2          Wirt    356\n",
       "3    West Union    340\n",
       "4          Alma    339\n",
       "5       Genesee    160\n",
       "6          Scio     86\n",
       "7    Carrollton     77\n",
       "8       Collins     56\n",
       "9   Sandy Creek     52\n",
       "10        Brant     48\n",
       "11     Richland     36\n",
       "12        Busti     36\n",
       "13        Olean     32\n",
       "14  Clarksville     30\n",
       "15   Perrysburg     29\n",
       "16    Red House     28\n",
       "17     Sheridan     26\n",
       "18        Alden     26\n",
       "19          UNK     19\n",
       "20      Hanover     19\n",
       "21    Tonawanda     17\n",
       "22      Willing     17\n",
       "23    Lancaster     17\n",
       "24       Camden     17"
      ]
     },
     "execution_count": 17,
     "metadata": {},
     "output_type": "execute_result"
    }
   ],
   "source": [
    "# Calculating number of wells in each town\n",
    "wells_city = df_located.town.value_counts().rename_axis('city').reset_index(name='count')\n",
    "wells_city.head(25)"
   ]
  },
  {
   "cell_type": "code",
   "execution_count": 18,
   "metadata": {
    "colab": {
     "base_uri": "https://localhost:8080/"
    },
    "id": "DFMFe9fB45Ya",
    "outputId": "4eafb0c9-75dc-4006-acc6-c8f10a478a15"
   },
   "outputs": [
    {
     "data": {
      "text/plain": [
       "Bolivar        0.243457\n",
       "Allegany       0.199910\n",
       "Wirt           0.080325\n",
       "West Union     0.076715\n",
       "Alma           0.076489\n",
       "Genesee        0.036101\n",
       "Scio           0.019404\n",
       "Carrollton     0.017374\n",
       "Collins        0.012635\n",
       "Sandy Creek    0.011733\n",
       "Brant          0.010830\n",
       "Richland       0.008123\n",
       "Busti          0.008123\n",
       "Olean          0.007220\n",
       "Clarksville    0.006769\n",
       "Perrysburg     0.006543\n",
       "Red House      0.006318\n",
       "Sheridan       0.005866\n",
       "Alden          0.005866\n",
       "UNK            0.004287\n",
       "Hanover        0.004287\n",
       "Tonawanda      0.003836\n",
       "Willing        0.003836\n",
       "Lancaster      0.003836\n",
       "Camden         0.003836\n",
       "Name: town, dtype: float64"
      ]
     },
     "execution_count": 18,
     "metadata": {},
     "output_type": "execute_result"
    }
   ],
   "source": [
    "# Calculating percent of wells in each town\n",
    "\n",
    "df_located.town.value_counts(normalize=True).head(25)"
   ]
  }
 ],
 "metadata": {
  "colab": {
   "name": "wells_abandoned_github.ipynb",
   "provenance": []
  },
  "kernelspec": {
   "display_name": "Python 3 (ipykernel)",
   "language": "python",
   "name": "python3"
  },
  "language_info": {
   "codemirror_mode": {
    "name": "ipython",
    "version": 3
   },
   "file_extension": ".py",
   "mimetype": "text/x-python",
   "name": "python",
   "nbconvert_exporter": "python",
   "pygments_lexer": "ipython3",
   "version": "3.9.7"
  }
 },
 "nbformat": 4,
 "nbformat_minor": 1
}
